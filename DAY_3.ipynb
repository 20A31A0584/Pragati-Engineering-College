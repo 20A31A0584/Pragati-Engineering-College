{
  "nbformat": 4,
  "nbformat_minor": 0,
  "metadata": {
    "colab": {
      "provenance": [],
      "authorship_tag": "ABX9TyMlYH/wfPcachnorE5BjQN5",
      "include_colab_link": true
    },
    "kernelspec": {
      "name": "python3",
      "display_name": "Python 3"
    },
    "language_info": {
      "name": "python"
    }
  },
  "cells": [
    {
      "cell_type": "markdown",
      "metadata": {
        "id": "view-in-github",
        "colab_type": "text"
      },
      "source": [
        "<a href=\"https://colab.research.google.com/github/20A31A0584/Pragati-Engineering-College/blob/main/DAY_3.ipynb\" target=\"_parent\"><img src=\"https://colab.research.google.com/assets/colab-badge.svg\" alt=\"Open In Colab\"/></a>"
      ]
    },
    {
      "cell_type": "code",
      "execution_count": 1,
      "metadata": {
        "colab": {
          "base_uri": "https://localhost:8080/"
        },
        "id": "zRUliNSqGvIk",
        "outputId": "d153a08a-1cf3-458e-e571-e467f7fe8461"
      },
      "outputs": [
        {
          "output_type": "stream",
          "name": "stdout",
          "text": [
            "2\n",
            "3\n",
            "4\n",
            "5\n",
            "6\n",
            "7\n",
            "8\n",
            "9\n"
          ]
        }
      ],
      "source": [
        "for i in range(2,10):\n",
        "  print(i)"
      ]
    },
    {
      "cell_type": "markdown",
      "source": [
        "print prime numbersfrom 1 to n"
      ],
      "metadata": {
        "id": "NQzwyFd2LHqM"
      }
    },
    {
      "cell_type": "code",
      "source": [
        "n=int(input())\n",
        "for i in range(2,n+1):\n",
        "  c=0\n",
        "  for j in range(2,i):\n",
        "     if i%j==0:\n",
        "       c=1\n",
        "       break\n",
        "  if c==0:\n",
        "        print(i, end=\" \") \n",
        "\n",
        "\n",
        "    "
      ],
      "metadata": {
        "colab": {
          "base_uri": "https://localhost:8080/"
        },
        "id": "k0HgvoWlLGw_",
        "outputId": "ca84b15c-3181-491a-fca9-ddbc491aa5cd"
      },
      "execution_count": 38,
      "outputs": [
        {
          "output_type": "stream",
          "name": "stdout",
          "text": [
            "15\n",
            "2 3 5 7 11 13 "
          ]
        }
      ]
    },
    {
      "cell_type": "code",
      "source": [
        "6>>+2\n"
      ],
      "metadata": {
        "colab": {
          "base_uri": "https://localhost:8080/"
        },
        "id": "Qwo8BMaKQxD4",
        "outputId": "dda5af5f-c7df-4439-c048-d303b2b366ff"
      },
      "execution_count": 5,
      "outputs": [
        {
          "output_type": "execute_result",
          "data": {
            "text/plain": [
              "1"
            ]
          },
          "metadata": {},
          "execution_count": 5
        }
      ]
    },
    {
      "cell_type": "markdown",
      "source": [
        "SWAP CASES"
      ],
      "metadata": {
        "id": "C_dXiccgZPe7"
      }
    },
    {
      "cell_type": "code",
      "source": [
        "a=10\n",
        "b=20\n",
        "a=a*b\n",
        "b=a//b\n",
        "a=a//b\n",
        "print(a,b)\n"
      ],
      "metadata": {
        "colab": {
          "base_uri": "https://localhost:8080/"
        },
        "id": "idMQJkuFTXRO",
        "outputId": "465d52d6-1897-4c52-90bc-700cb543b65c"
      },
      "execution_count": 10,
      "outputs": [
        {
          "output_type": "stream",
          "name": "stdout",
          "text": [
            "20 10\n"
          ]
        }
      ]
    },
    {
      "cell_type": "code",
      "source": [
        "a=10\n",
        "b=20\n",
        "a=a^b#30\n",
        "b=b^a#10\n",
        "a=a^b#20\n",
        "print(a)\n",
        "print(b)"
      ],
      "metadata": {
        "colab": {
          "base_uri": "https://localhost:8080/"
        },
        "id": "4Lsazb0wXQNn",
        "outputId": "fdf58991-04b2-48be-c3d8-37456568eeb0"
      },
      "execution_count": 17,
      "outputs": [
        {
          "output_type": "stream",
          "name": "stdout",
          "text": [
            "20\n",
            "10\n"
          ]
        }
      ]
    },
    {
      "cell_type": "markdown",
      "source": [
        "LISTS\n",
        "\n",
        "1.   unidata type list\n",
        "2.   multi data type list\n",
        "\n",
        "\n"
      ],
      "metadata": {
        "id": "TNS45itDZTGX"
      }
    },
    {
      "cell_type": "code",
      "source": [
        "num=[1,2,3,4,5,6,7,8,9,10]\n",
        "print(num[2:5:2])\n",
        "print(num[1::3])\n",
        "del num[2:5]\n",
        "print(num)\n",
        "\n"
      ],
      "metadata": {
        "colab": {
          "base_uri": "https://localhost:8080/"
        },
        "id": "uieatPozbhHn",
        "outputId": "6a3b3be7-a599-4fe4-e922-c4fdad494c13"
      },
      "execution_count": 22,
      "outputs": [
        {
          "output_type": "stream",
          "name": "stdout",
          "text": [
            "[3, 5]\n",
            "[2, 5, 8]\n",
            "[1, 2, 6, 7, 8, 9, 10]\n"
          ]
        }
      ]
    },
    {
      "cell_type": "code",
      "source": [
        "len([1,2,3])\n",
        "l=[1,2,3]\n",
        "sum1=sum(l)\n",
        "print(sum1)\n",
        "print(sum(l))\n"
      ],
      "metadata": {
        "colab": {
          "base_uri": "https://localhost:8080/"
        },
        "id": "fW3GQSzDh-t0",
        "outputId": "03c46864-578e-481d-b125-fc5ce6cd916c"
      },
      "execution_count": 33,
      "outputs": [
        {
          "output_type": "stream",
          "name": "stdout",
          "text": [
            "6\n",
            "6\n"
          ]
        }
      ]
    },
    {
      "cell_type": "code",
      "source": [
        "num=input()\n",
        "print(int(num,17))"
      ],
      "metadata": {
        "colab": {
          "base_uri": "https://localhost:8080/"
        },
        "id": "5wefL-vd7bSt",
        "outputId": "70deacb1-c1cb-40ac-b212-77fb03b78b9b"
      },
      "execution_count": 5,
      "outputs": [
        {
          "output_type": "stream",
          "name": "stdout",
          "text": [
            "1A\n",
            "27\n"
          ]
        }
      ]
    },
    {
      "cell_type": "markdown",
      "source": [
        "list functions:\n",
        "\n",
        "len,insert,append,extend,sort,reverse,count,index,copy,clear,remove,del,pop,sum,max,min"
      ],
      "metadata": {
        "id": "Mm0xnvq7Fsuq"
      }
    },
    {
      "cell_type": "code",
      "source": [
        "num=[1,2,7,5,3]\n",
        "print(sorted(num))#sort\n",
        "print(sum(num))#sum\n",
        "num.append(8)#append\n",
        "print(num)\n",
        "num.insert(0,10)#insert\n",
        "print(num)\n",
        "del num[0]#del\n",
        "print(num)\n",
        "print(num.count(7))#count\n",
        "print(len(num))#len\n",
        "num.reverse()#reverse\n",
        "print(num)\n",
        "num.pop(0)##Removes the element at the specified position\n",
        "print(num)\n",
        "num.remove(2)#Removes the first item with the specified value\n",
        "print(num)\n",
        "x=num.index(7)#index\n",
        "print(x)\n",
        "num2=num.copy()#copy\n",
        "print(num2)\n",
        "num2.clear()##clear\n",
        "print(num2)\n",
        "num3=[10,20,30]\n",
        "num.extend(num3)\n",
        "print(num)\n",
        "\n"
      ],
      "metadata": {
        "colab": {
          "base_uri": "https://localhost:8080/"
        },
        "id": "9JOosXl0-uD4",
        "outputId": "070dce10-6390-4662-96ea-c844819ac7e5"
      },
      "execution_count": 34,
      "outputs": [
        {
          "output_type": "stream",
          "name": "stdout",
          "text": [
            "[1, 2, 3, 5, 7]\n",
            "18\n",
            "[1, 2, 7, 5, 3, 8]\n",
            "[10, 1, 2, 7, 5, 3, 8]\n",
            "[1, 2, 7, 5, 3, 8]\n",
            "1\n",
            "6\n",
            "[8, 3, 5, 7, 2, 1]\n",
            "[3, 5, 7, 2, 1]\n",
            "[3, 5, 7, 1]\n",
            "2\n",
            "[3, 5, 7, 1]\n",
            "[]\n",
            "[3, 5, 7, 1, 10, 20, 30]\n"
          ]
        }
      ]
    },
    {
      "cell_type": "markdown",
      "source": [
        "armstrong number"
      ],
      "metadata": {
        "id": "QAzeOmdZGZRM"
      }
    },
    {
      "cell_type": "code",
      "source": [
        "n=int(input())\n",
        "temp=n\n",
        "sum=0\n",
        "while n:\n",
        "   r=n%10\n",
        "   n=n//10\n",
        "   sum=sum+pow(r,3)\n",
        "if temp==sum:\n",
        "  print(\"yes\")\n",
        "else:\n",
        "  print(\"no\")\n"
      ],
      "metadata": {
        "colab": {
          "base_uri": "https://localhost:8080/"
        },
        "id": "i1fQ6txy_LPI",
        "outputId": "27c729bb-7622-4fbf-e606-b18b09bc69f7"
      },
      "execution_count": 40,
      "outputs": [
        {
          "output_type": "stream",
          "name": "stdout",
          "text": [
            "153\n",
            "yes\n"
          ]
        }
      ]
    },
    {
      "cell_type": "markdown",
      "source": [
        "armstrong number power 4?"
      ],
      "metadata": {
        "id": "AzC-O18RNw-B"
      }
    },
    {
      "cell_type": "code",
      "source": [
        "n=int(input())##8208,1634\n",
        "temp,temp1=n,n\n",
        "sum,c=0,0\n",
        "while n:\n",
        "   c+=1 \n",
        "   r=n%10\n",
        "   n=n//10\n",
        "while temp:\n",
        "   rem=temp%10\n",
        "   temp=temp//10\n",
        "   sum=sum+pow(rem,c)\n",
        "if temp1==sum:\n",
        "  print(\"yes\")\n",
        "else:\n",
        "  print(\"no\")"
      ],
      "metadata": {
        "colab": {
          "base_uri": "https://localhost:8080/"
        },
        "id": "HMNnThMBJWYC",
        "outputId": "4da1cdab-070c-473b-c560-79de23ebdf88"
      },
      "execution_count": 52,
      "outputs": [
        {
          "output_type": "stream",
          "name": "stdout",
          "text": [
            "8208\n",
            "8208\n",
            "yes\n"
          ]
        }
      ]
    },
    {
      "cell_type": "markdown",
      "source": [
        "write a python program to make a list of cubes till the value n=10?"
      ],
      "metadata": {
        "id": "6ntsds5tLmu6"
      }
    },
    {
      "cell_type": "code",
      "source": [
        "l=[]\n",
        "for i in range(11):\n",
        "  l.append(i**3)\n",
        "print(l)"
      ],
      "metadata": {
        "colab": {
          "base_uri": "https://localhost:8080/"
        },
        "id": "3Mk95BsnLk7_",
        "outputId": "d9af82e1-9d3d-445e-dfd9-cd021183cdd6"
      },
      "execution_count": 53,
      "outputs": [
        {
          "output_type": "stream",
          "name": "stdout",
          "text": [
            "[0, 1, 8, 27, 64, 125, 216, 343, 512, 729, 1000]\n"
          ]
        }
      ]
    },
    {
      "cell_type": "markdown",
      "source": [
        "write a python to find an absolute value for the difference in between even and odd digits of a given number?"
      ],
      "metadata": {
        "id": "hxO_v49kbtF0"
      }
    },
    {
      "cell_type": "code",
      "source": [
        "n=int(input())\n",
        "l1=[]\n",
        "l2=[]\n",
        "while n:\n",
        "  r=n%10\n",
        "  n=n//10\n",
        "  if r%2==0:\n",
        "    l1.append(r)\n",
        "  else:\n",
        "    l2.append(r)\n",
        "l1_sum=sum(l1)\n",
        "l2_sum=sum(l2)\n",
        "print(abs(l1_sum-l2_sum))\n"
      ],
      "metadata": {
        "colab": {
          "base_uri": "https://localhost:8080/"
        },
        "id": "4mjYldldPero",
        "outputId": "3341e12b-9fac-42bf-a909-421941d6a68e"
      },
      "execution_count": 3,
      "outputs": [
        {
          "output_type": "stream",
          "name": "stdout",
          "text": [
            "123456789\n",
            "5\n"
          ]
        }
      ]
    },
    {
      "cell_type": "code",
      "source": [
        "cubes=[i**3 for i in range(11)]\n",
        "print([i**3 for i in range(11)])\n"
      ],
      "metadata": {
        "colab": {
          "base_uri": "https://localhost:8080/"
        },
        "id": "jyNhl1I9QUDx",
        "outputId": "0bb4de2f-c4ad-4531-bb4d-361e5f0c00b3"
      },
      "execution_count": 6,
      "outputs": [
        {
          "output_type": "stream",
          "name": "stdout",
          "text": [
            "[0, 1, 8, 27, 64, 125, 216, 343, 512, 729, 1000]\n"
          ]
        }
      ]
    },
    {
      "cell_type": "code",
      "source": [
        "n=int(input())\n",
        "if n%2==0:##even\n",
        "  n=n//2\n",
        "  print(3**(n-1))\n",
        "else:##odd\n",
        "  n=n//2+1\n",
        "  print(2**(n-1))"
      ],
      "metadata": {
        "colab": {
          "base_uri": "https://localhost:8080/"
        },
        "id": "JiP77hwGWpCM",
        "outputId": "6192e3db-7cc5-48f9-d84f-4cd3ca2ada1d"
      },
      "execution_count": 8,
      "outputs": [
        {
          "output_type": "stream",
          "name": "stdout",
          "text": [
            "13\n",
            "64\n"
          ]
        }
      ]
    },
    {
      "cell_type": "code",
      "source": [],
      "metadata": {
        "colab": {
          "base_uri": "https://localhost:8080/"
        },
        "id": "f8Nkhb65aq8Y",
        "outputId": "5b3975c4-5a99-400b-9659-7a5ef5e8a9c6"
      },
      "execution_count": 10,
      "outputs": [
        {
          "output_type": "stream",
          "name": "stdout",
          "text": [
            "243\n"
          ]
        }
      ]
    }
  ]
}