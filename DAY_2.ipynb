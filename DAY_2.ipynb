{
  "nbformat": 4,
  "nbformat_minor": 0,
  "metadata": {
    "colab": {
      "provenance": [],
      "authorship_tag": "ABX9TyPSEDqXWKROEdUgmyrQDvhn",
      "include_colab_link": true
    },
    "kernelspec": {
      "name": "python3",
      "display_name": "Python 3"
    },
    "language_info": {
      "name": "python"
    }
  },
  "cells": [
    {
      "cell_type": "markdown",
      "metadata": {
        "id": "view-in-github",
        "colab_type": "text"
      },
      "source": [
        "<a href=\"https://colab.research.google.com/github/20A31A0584/Pragati-Engineering-College/blob/main/DAY_2.ipynb\" target=\"_parent\"><img src=\"https://colab.research.google.com/assets/colab-badge.svg\" alt=\"Open In Colab\"/></a>"
      ]
    },
    {
      "cell_type": "code",
      "execution_count": null,
      "metadata": {
        "colab": {
          "base_uri": "https://localhost:8080/"
        },
        "id": "bFCpV1PjMAqy",
        "outputId": "2b714f92-d2d3-4fbd-fcb1-59beb02eb4a8"
      },
      "outputs": [
        {
          "output_type": "stream",
          "name": "stdout",
          "text": [
            "nishi\n"
          ]
        }
      ],
      "source": [
        "print('nishi')"
      ]
    },
    {
      "cell_type": "code",
      "source": [
        "a=5\n",
        "b=True\n",
        "if 1==b:\n",
        "  print(\"yes\")\n",
        "else:\n",
        "  print(\"no\")"
      ],
      "metadata": {
        "colab": {
          "base_uri": "https://localhost:8080/"
        },
        "id": "YsGdtcydO-0a",
        "outputId": "6e300e42-70d8-4752-e792-f3299fff6569"
      },
      "execution_count": null,
      "outputs": [
        {
          "output_type": "stream",
          "name": "stdout",
          "text": [
            "yes\n"
          ]
        }
      ]
    },
    {
      "cell_type": "code",
      "source": [
        "a=int(input())\n",
        "qu=a//7\n",
        "if qu*7==a:\n",
        "  print(\"divisible\")\n",
        "else:\n",
        "  print(\"not divisible\")"
      ],
      "metadata": {
        "colab": {
          "base_uri": "https://localhost:8080/"
        },
        "id": "5kPwBI99RDXr",
        "outputId": "5fe78b59-902f-4e24-f81a-f4fe58d1226f"
      },
      "execution_count": null,
      "outputs": [
        {
          "output_type": "stream",
          "name": "stdout",
          "text": [
            "48\n",
            "not divisible\n"
          ]
        }
      ]
    },
    {
      "cell_type": "code",
      "source": [
        "a=int(input())\n",
        "if a%7==0:\n",
        "  print(\"dividible\")\n",
        "else:\n",
        "  print(\"undivisible\")"
      ],
      "metadata": {
        "colab": {
          "base_uri": "https://localhost:8080/"
        },
        "id": "DYjgD1HNRpxb",
        "outputId": "7aae5fd3-8813-43aa-ee71-1ebc9a2947c4"
      },
      "execution_count": null,
      "outputs": [
        {
          "output_type": "stream",
          "name": "stdout",
          "text": [
            "49\n",
            "dividible\n"
          ]
        }
      ]
    },
    {
      "cell_type": "code",
      "source": [
        "email=\"nishi@gmail.com\"\n",
        "pw=123\n",
        "otp=1234\n",
        "cemail=input()\n",
        "cpw=int(input())\n",
        "cotp=int(input())\n",
        "if email==cemail and pw==cpw:\n",
        "  if otp==cotp:\n",
        "     print(\"success\")\n",
        "  else:\n",
        "    print(\"wrong otp\")\n",
        "elif email!=cemail and pw==cpw:\n",
        "  print(\"wrong mail\")\n",
        "elif email==cemail and pw!=cpw:\n",
        "  print(\"wrong pw\")\n",
        "elif email!=cemail and pw!=cpw:\n",
        "  print(\"email and pw are wrong12\")"
      ],
      "metadata": {
        "colab": {
          "base_uri": "https://localhost:8080/"
        },
        "id": "i3DG6424Mz-J",
        "outputId": "9b06a44b-1e08-4ea6-d539-36faad4016eb"
      },
      "execution_count": null,
      "outputs": [
        {
          "output_type": "stream",
          "name": "stdout",
          "text": [
            "nishi@gmail.com\n",
            "123\n",
            "6546\n",
            "wrong otp\n"
          ]
        }
      ]
    },
    {
      "cell_type": "code",
      "source": [
        "days=int(input())\n",
        "if days<=84:\n",
        "  calls=int(input())\n",
        "  msg=int(input())\n",
        "  data=float(input())\n",
        "  print(\"remaining days:\",84-days)\n",
        "  print(\"remaining calls:\",3000-calls) if calls<=3000 else print(\"kindly top up\")\n",
        "  print(\"remaining msg:\",100-msg) if msg<=100 else print(\"message failed\")\n",
        "  print(\"remaining data:\",round((2-data),3)) if data<=2 else print(\"limit exceed \")\n",
        "else:\n",
        "  print(\"your plan expired\")\n",
        "\n",
        "  \n",
        "  \n"
      ],
      "metadata": {
        "colab": {
          "base_uri": "https://localhost:8080/"
        },
        "id": "m3pCblbVXTF9",
        "outputId": "c1f3124f-4d2b-4ef9-c210-c8b9a3f44a7f"
      },
      "execution_count": null,
      "outputs": [
        {
          "output_type": "stream",
          "name": "stdout",
          "text": [
            "80\n",
            "3001\n",
            "101\n",
            "2.7\n",
            "remaining days: 4\n",
            "kindly top up\n",
            "message failed\n",
            "limit exceed \n"
          ]
        }
      ]
    },
    {
      "cell_type": "code",
      "source": [
        "for i in range(1,30,2):\n",
        "  if i%10==5:\n",
        "    print(i)"
      ],
      "metadata": {
        "colab": {
          "base_uri": "https://localhost:8080/"
        },
        "id": "xlZIbSKC6pLD",
        "outputId": "330784e1-61d8-4316-b829-319b4101787b"
      },
      "execution_count": null,
      "outputs": [
        {
          "output_type": "stream",
          "name": "stdout",
          "text": [
            "5\n",
            "15\n",
            "25\n"
          ]
        }
      ]
    },
    {
      "cell_type": "code",
      "source": [
        "for i in range(-10,0,2):\n",
        "  print(i,end=\" \")"
      ],
      "metadata": {
        "colab": {
          "base_uri": "https://localhost:8080/"
        },
        "id": "72R1fKqF9YQz",
        "outputId": "dbe1da60-95dc-4549-a4f8-1866808c7c4d"
      },
      "execution_count": null,
      "outputs": [
        {
          "output_type": "stream",
          "name": "stdout",
          "text": [
            "-10 -8 -6 -4 -2 "
          ]
        }
      ]
    },
    {
      "cell_type": "code",
      "source": [
        "for i in range(97,):\n",
        "  for j in range(97,i+1):\n",
        "      print(chr(j),end=\" \")\n",
        "  print(\"\\n\")\n"
      ],
      "metadata": {
        "colab": {
          "base_uri": "https://localhost:8080/"
        },
        "id": "rWxiIH5m-ZrX",
        "outputId": "7c0fb649-e595-4ea5-a534-ae80d453bc75"
      },
      "execution_count": null,
      "outputs": [
        {
          "output_type": "stream",
          "name": "stdout",
          "text": [
            "a \n",
            "\n",
            "a b \n",
            "\n",
            "a b c \n",
            "\n",
            "a b c d \n",
            "\n",
            "a b c d e \n",
            "\n",
            "a b c d e f \n",
            "\n",
            "a b c d e f g \n",
            "\n",
            "a b c d e f g h \n",
            "\n",
            "a b c d e f g h i \n",
            "\n",
            "a b c d e f g h i j \n",
            "\n",
            "a b c d e f g h i j k \n",
            "\n",
            "a b c d e f g h i j k l \n",
            "\n",
            "a b c d e f g h i j k l m \n",
            "\n",
            "a b c d e f g h i j k l m n \n",
            "\n",
            "a b c d e f g h i j k l m n o \n",
            "\n",
            "a b c d e f g h i j k l m n o p \n",
            "\n",
            "a b c d e f g h i j k l m n o p q \n",
            "\n",
            "a b c d e f g h i j k l m n o p q r \n",
            "\n",
            "a b c d e f g h i j k l m n o p q r s \n",
            "\n",
            "a b c d e f g h i j k l m n o p q r s t \n",
            "\n",
            "a b c d e f g h i j k l m n o p q r s t u \n",
            "\n",
            "a b c d e f g h i j k l m n o p q r s t u v \n",
            "\n",
            "a b c d e f g h i j k l m n o p q r s t u v w \n",
            "\n",
            "a b c d e f g h i j k l m n o p q r s t u v w x \n",
            "\n",
            "a b c d e f g h i j k l m n o p q r s t u v w x y \n",
            "\n",
            "a b c d e f g h i j k l m n o p q r s t u v w x y z \n",
            "\n"
          ]
        }
      ]
    },
    {
      "cell_type": "code",
      "source": [
        "i=1\n",
        "while(i<=10):\n",
        "  print(i,\"* 10=\",i*10)\n",
        "  i+=1\n",
        "  \n"
      ],
      "metadata": {
        "colab": {
          "base_uri": "https://localhost:8080/"
        },
        "id": "2tCy-E8nFAAK",
        "outputId": "befb6b82-512e-493d-cf6b-f393210387d5"
      },
      "execution_count": null,
      "outputs": [
        {
          "output_type": "stream",
          "name": "stdout",
          "text": [
            "1 * 10= 10\n",
            "2 * 10= 20\n",
            "3 * 10= 30\n",
            "4 * 10= 40\n",
            "5 * 10= 50\n",
            "6 * 10= 60\n",
            "7 * 10= 70\n",
            "8 * 10= 80\n",
            "9 * 10= 90\n",
            "10 * 10= 100\n"
          ]
        }
      ]
    },
    {
      "cell_type": "code",
      "source": [
        "\n",
        "i,j=0,0\n",
        "while(i<3):\n",
        "  j=0\n",
        "  while(j<i+1):\n",
        "    print(\"*\",end=\" \")\n",
        "    j+=1\n",
        "  print(\"\\n\")\n",
        "  i+=1"
      ],
      "metadata": {
        "colab": {
          "base_uri": "https://localhost:8080/"
        },
        "id": "shNv305xHBBK",
        "outputId": "1b1246c9-89f3-49f7-dca3-c8a093163d22"
      },
      "execution_count": null,
      "outputs": [
        {
          "output_type": "stream",
          "name": "stdout",
          "text": [
            "* \n",
            "\n",
            "* * \n",
            "\n",
            "* * * \n",
            "\n"
          ]
        }
      ]
    },
    {
      "cell_type": "code",
      "source": [
        "a=[10,20,30,4,50,105]\n",
        "for i in range(len(a)):\n",
        "  if '0' in str(a[i]):\n",
        "   print(a[i])"
      ],
      "metadata": {
        "colab": {
          "base_uri": "https://localhost:8080/"
        },
        "id": "lApuhFsIQ695",
        "outputId": "83d6f4bf-db66-42a1-dd55-247dc059bd14"
      },
      "execution_count": null,
      "outputs": [
        {
          "output_type": "stream",
          "name": "stdout",
          "text": [
            "10\n",
            "20\n",
            "30\n",
            "50\n",
            "105\n"
          ]
        }
      ]
    },
    {
      "cell_type": "code",
      "source": [
        "for i in range(10,1,-1):\n",
        "  print(i,end='*')"
      ],
      "metadata": {
        "colab": {
          "base_uri": "https://localhost:8080/"
        },
        "id": "SUvcj__ZhYA-",
        "outputId": "33574f46-32f0-4efd-9f70-3a07b22c3d43"
      },
      "execution_count": null,
      "outputs": [
        {
          "output_type": "stream",
          "name": "stdout",
          "text": [
            "10*9*8*7*6*5*4*3*2*"
          ]
        }
      ]
    },
    {
      "cell_type": "code",
      "source": [
        "print(ord(\"e\"))"
      ],
      "metadata": {
        "colab": {
          "base_uri": "https://localhost:8080/"
        },
        "id": "-gWbTs4zfZla",
        "outputId": "71a84d22-8e09-450d-867d-233d625e3ded"
      },
      "execution_count": null,
      "outputs": [
        {
          "output_type": "stream",
          "name": "stdout",
          "text": [
            "101\n"
          ]
        }
      ]
    },
    {
      "cell_type": "markdown",
      "source": [
        "this is control sttement\n"
      ],
      "metadata": {
        "id": "84r-2zQONjcZ"
      }
    }
  ]
}